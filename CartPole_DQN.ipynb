{
 "cells": [
  {
   "cell_type": "markdown",
   "metadata": {},
   "source": [
    "# CartPole-v1 Deep Q-Learning"
   ]
  },
  {
   "cell_type": "markdown",
   "metadata": {},
   "source": [
    "## Requirements"
   ]
  },
  {
   "cell_type": "code",
   "execution_count": 1,
   "metadata": {},
   "outputs": [],
   "source": [
    "from utils import *\n",
    "\n",
    "install_requirements_RL();"
   ]
  },
  {
   "cell_type": "code",
   "execution_count": 2,
   "metadata": {},
   "outputs": [],
   "source": [
    "import gym\n",
    "from gym import logger as gymlogger\n",
    "from gym.wrappers import Monitor\n",
    "gymlogger.set_level(40) # Error only\n",
    "\n",
    "import tensorflow as tf\n",
    "import numpy as np\n",
    "import pandas as pd\n",
    "import random\n",
    "import matplotlib\n",
    "import matplotlib.pyplot as plt\n",
    "%matplotlib inline\n",
    "\n",
    "import glob\n",
    "import io\n",
    "import base64\n",
    "from tqdm.notebook import tqdm, trange\n",
    "from IPython.display import HTML\n",
    "from IPython import display as ipythondisplay\n",
    "\n",
    "import random\n",
    "import datetime\n",
    "\n",
    "from collections import deque\n",
    "\n",
    "import tensorflow as tf\n",
    "from tensorflow.keras.layers import Dense, Flatten, Conv2D, Dropout\n",
    "from tensorflow.keras import Model\n",
    "from tensorflow.keras.models import Sequential, load_model\n",
    "from tensorflow.keras.optimizers import Adam\n",
    "from tensorflow.keras.callbacks import TensorBoard"
   ]
  },
  {
   "cell_type": "code",
   "execution_count": 3,
   "metadata": {},
   "outputs": [],
   "source": [
    "from pyvirtualdisplay import Display\n",
    "display = Display(visible=0, size=(1400, 900))\n",
    "display.start();"
   ]
  },
  {
   "cell_type": "code",
   "execution_count": 4,
   "metadata": {},
   "outputs": [],
   "source": [
    "\"\"\"\n",
    "Utility functions to enable video recording of gym environment and displaying it.\n",
    "To enable video, just do \"env = wrap_env(env)\"\"\n",
    "\"\"\"\n",
    "\n",
    "def show_video():\n",
    "    mp4list = glob.glob('gym-results/*.mp4')\n",
    "    if len(mp4list) > 0:\n",
    "        mp4 = mp4list[0]\n",
    "        video = io.open(mp4, 'r+b').read()\n",
    "        encoded = base64.b64encode(video)\n",
    "        ipythondisplay.display(HTML(data='''<video alt=\"test\" autoplay \n",
    "                    loop controls style=\"height: 200px;\">\n",
    "                    <source src=\"data:video/mp4;base64,{0}\" type=\"video/mp4\" />\n",
    "                 </video>'''.format(encoded.decode('ascii'))))\n",
    "    else: \n",
    "        print(\"Could not find video\")\n",
    "    \n",
    "\n",
    "def wrap_env(env):\n",
    "    env = Monitor(env, './gym-results', force=True)\n",
    "    return env"
   ]
  },
  {
   "cell_type": "markdown",
   "metadata": {},
   "source": [
    "## Random Agent"
   ]
  },
  {
   "cell_type": "code",
   "execution_count": 5,
   "metadata": {},
   "outputs": [
    {
     "name": "stdout",
     "output_type": "stream",
     "text": [
      "Discrete(2)\n"
     ]
    }
   ],
   "source": [
    "env = wrap_env(gym.make(\"CartPole-v1\"))\n",
    "print(env.action_space)"
   ]
  },
  {
   "cell_type": "code",
   "execution_count": 6,
   "metadata": {},
   "outputs": [
    {
     "data": {
      "text/html": [
       "<video alt=\"test\" autoplay \n",
       "                    loop controls style=\"height: 200px;\">\n",
       "                    <source src=\"data:video/mp4;base64,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\" type=\"video/mp4\" />\n",
       "                 </video>"
      ],
      "text/plain": [
       "<IPython.core.display.HTML object>"
      ]
     },
     "metadata": {},
     "output_type": "display_data"
    }
   ],
   "source": [
    "observation = env.reset()\n",
    "\n",
    "while True:\n",
    "    env.render()\n",
    "    \n",
    "    # Random Agent here\n",
    "    action = env.action_space.sample()   \n",
    "         \n",
    "    observation, reward, done, info = env.step(action) \n",
    "   \n",
    "    if done: \n",
    "        break;\n",
    "            \n",
    "env.close()\n",
    "show_video()"
   ]
  },
  {
   "cell_type": "markdown",
   "metadata": {},
   "source": [
    "## DQN Agent"
   ]
  },
  {
   "cell_type": "code",
   "execution_count": 8,
   "metadata": {},
   "outputs": [],
   "source": [
    "ENV_NAME = \"CartPole-v1\"\n",
    "\n",
    "# Cummulative discounted reward and optimizer learning rate\n",
    "GAMMA = 0.9\n",
    "LEARNING_RATE = 0.001\n",
    "\n",
    "# Number maximum of actions kept for later analysis (replay is sampled from this structure)\n",
    "# When replay is performed BATCH_SIZE sets the number of examples to use\n",
    "MEMORY_SIZE = 1000000\n",
    "BATCH_SIZE = 20\n",
    "\n",
    "# Exploration strategy\n",
    "EXPLORATION_MAX = 1.0\n",
    "EXPLORATION_MIN = 0.01\n",
    "EXPLORATION_DECAY = 0.999\n",
    "\n",
    "class DQNSolver:\n",
    "\n",
    "    def __init__(self, observation_space, action_space):\n",
    "        \"\"\"\n",
    "        Initial settings and model definition\n",
    "        \"\"\"\n",
    "        self.exploration_rate = EXPLORATION_MAX\n",
    "\n",
    "        self.action_space = action_space\n",
    "        self.memory = deque(maxlen=MEMORY_SIZE)\n",
    "\n",
    "        self.model = Sequential()\n",
    "        self.model.add(Dense(24, input_shape=(observation_space,), activation=\"relu\"))\n",
    "        self.model.add(Dense(24, activation=\"relu\"))\n",
    "        self.model.add(Dense(self.action_space, activation=\"linear\"))\n",
    "        self.model.compile(loss=\"mse\", optimizer=Adam(lr=LEARNING_RATE))\n",
    "\n",
    "    def remember(self, state, action, reward, next_state, done):\n",
    "        \"\"\"\n",
    "        Store an action to the memory array\n",
    "        \"\"\"\n",
    "        self.memory.append((state, action, reward, next_state, done))\n",
    "\n",
    "    def act(self, state):\n",
    "        \"\"\"\n",
    "        Choose between explotation and exploration\n",
    "        \"\"\"\n",
    "        if np.random.rand() < self.exploration_rate:\n",
    "            return random.randrange(self.action_space)\n",
    "        return self.act_best(state)\n",
    "    \n",
    "    def act_best(self, state):\n",
    "        \"\"\"\n",
    "        Explotation. Use the best known action\n",
    "        \"\"\"\n",
    "        q_values = self.model.predict(state)\n",
    "        return np.argmax(q_values[0])\n",
    "\n",
    "    def experience_replay(self):\n",
    "        \"\"\"\n",
    "        Replays actions to fit the network\n",
    "        \"\"\"\n",
    "        if len(self.memory) < BATCH_SIZE:\n",
    "            return\n",
    "        \n",
    "        # Randomly sample from all the actions\n",
    "        batch = random.sample(self.memory, BATCH_SIZE)\n",
    "        for state, action, reward, state_next, terminal in batch:\n",
    "            q_update = reward\n",
    "            \n",
    "            # If it is not a terminal state, update the Q-value associated with this action\n",
    "            if not terminal:\n",
    "                q_update = (reward + GAMMA * np.amax(self.model.predict(state_next)[0]))\n",
    "            q_values = self.model.predict(state)\n",
    "            q_values[0][action] = q_update\n",
    "            \n",
    "            # Fit the function with this example\n",
    "            self.model.fit(state, q_values, verbose=0)\n",
    "            \n",
    "        # Update the exploration rate \n",
    "        self.exploration_rate *= EXPLORATION_DECAY\n",
    "        self.exploration_rate = max(EXPLORATION_MIN, self.exploration_rate)"
   ]
  },
  {
   "cell_type": "markdown",
   "metadata": {},
   "source": [
    "### Train the agent"
   ]
  },
  {
   "cell_type": "code",
   "execution_count": 10,
   "metadata": {
    "scrolled": true
   },
   "outputs": [
    {
     "data": {
      "application/vnd.jupyter.widget-view+json": {
       "model_id": "113ff203ad8a4129828f13ce7b47bfff",
       "version_major": 2,
       "version_minor": 0
      },
      "text/plain": [
       "HBox(children=(FloatProgress(value=0.0, max=1000.0), HTML(value='')))"
      ]
     },
     "metadata": {},
     "output_type": "display_data"
    },
    {
     "name": "stdout",
     "output_type": "stream",
     "text": [
      "WARNING:tensorflow:From /opt/miniconda/envs/tf-gpu/lib/python3.8/site-packages/tensorflow/python/ops/resource_variable_ops.py:1813: calling BaseResourceVariable.__init__ (from tensorflow.python.ops.resource_variable_ops) with constraint is deprecated and will be removed in a future version.\n",
      "Instructions for updating:\n",
      "If using Keras pass *_constraint arguments to layers.\n",
      "INFO:tensorflow:Assets written to: ./models/myDQN/assets\n",
      "Run: 1, exploration: 0.9655885070369844, score: 54\n",
      "INFO:tensorflow:Assets written to: ./models/myDQN/assets\n",
      "Run: 2, exploration: 0.9129761418240965, score: 56\n",
      "Run: 3, exploration: 0.8895331192339416, score: 26\n",
      "Run: 4, exploration: 0.8833250364922639, score: 7\n",
      "Run: 5, exploration: 0.8666920568517111, score: 19\n",
      "Run: 6, exploration: 0.8368678892362568, score: 35\n",
      "Run: 7, exploration: 0.8268805241487632, score: 12\n",
      "Run: 8, exploration: 0.8137491998735046, score: 16\n",
      "Run: 9, exploration: 0.8024304668606914, score: 14\n",
      "Run: 10, exploration: 0.7928540855310416, score: 12\n",
      "Run: 11, exploration: 0.7686407469632577, score: 31\n",
      "Run: 12, exploration: 0.7451668707698216, score: 31\n",
      "Run: 13, exploration: 0.7311354045730207, score: 19\n",
      "Run: 14, exploration: 0.7102266645246085, score: 29\n",
      "Run: 15, exploration: 0.685786704656174, score: 35\n",
      "Run: 16, exploration: 0.6762478484398523, score: 14\n",
      "Run: 17, exploration: 0.6661748299656206, score: 15\n",
      "Run: 18, exploration: 0.647123808418277, score: 29\n",
      "INFO:tensorflow:Assets written to: ./models/myDQN/assets\n",
      "Run: 19, exploration: 0.6063789448611848, score: 65\n",
      "INFO:tensorflow:Assets written to: ./models/myDQN/assets\n",
      "Run: 20, exploration: 0.5659301095244186, score: 69\n",
      "Run: 21, exploration: 0.5459091539334175, score: 36\n",
      "Run: 22, exploration: 0.5383159053457894, score: 14\n",
      "Run: 23, exploration: 0.532423949117051, score: 11\n",
      "Run: 24, exploration: 0.522398424717818, score: 19\n",
      "Run: 25, exploration: 0.5094939886915886, score: 25\n",
      "Run: 26, exploration: 0.4984020331445882, score: 22\n",
      "Run: 27, exploration: 0.4831811023432807, score: 31\n",
      "Run: 28, exploration: 0.47171714102654755, score: 24\n",
      "Run: 29, exploration: 0.46515585607821586, score: 14\n",
      "Run: 30, exploration: 0.4354323744883354, score: 66\n",
      "Run: 31, exploration: 0.4289464117416609, score: 15\n",
      "Run: 32, exploration: 0.424676198829174, score: 10\n",
      "Run: 33, exploration: 0.4035504360971442, score: 51\n",
      "Run: 34, exploration: 0.380038079308654, score: 60\n",
      "Run: 35, exploration: 0.3568230267186975, score: 63\n",
      "Run: 36, exploration: 0.3490547993433876, score: 22\n",
      "Run: 37, exploration: 0.33839485296807126, score: 31\n",
      "Run: 38, exploration: 0.3215612056074402, score: 51\n",
      "Run: 39, exploration: 0.31645463417195824, score: 16\n",
      "Run: 40, exploration: 0.31236531710902116, score: 13\n",
      "Run: 41, exploration: 0.3095652482070879, score: 9\n",
      "Run: 42, exploration: 0.3058708285836198, score: 12\n",
      "Run: 43, exploration: 0.28546754960345794, score: 69\n",
      "Run: 44, exploration: 0.2718101500004249, score: 49\n",
      "INFO:tensorflow:Assets written to: ./models/myDQN/assets\n",
      "Run: 45, exploration: 0.25190847303716074, score: 76\n",
      "Run: 46, exploration: 0.248653239882542, score: 13\n",
      "Run: 47, exploration: 0.24397110804469957, score: 19\n",
      "Run: 48, exploration: 0.23913776344553783, score: 20\n",
      "Run: 49, exploration: 0.23604755704357036, score: 13\n",
      "Run: 50, exploration: 0.2295266829410795, score: 28\n",
      "Run: 51, exploration: 0.21702038074196223, score: 56\n",
      "Run: 52, exploration: 0.21485991685474995, score: 10\n",
      "INFO:tensorflow:Assets written to: ./models/myDQN/assets\n",
      "Run: 53, exploration: 0.19074295313908668, score: 119\n",
      "Run: 54, exploration: 0.18677715459292282, score: 21\n",
      "Run: 55, exploration: 0.18381102912190073, score: 16\n",
      "Run: 56, exploration: 0.18071111537162424, score: 17\n",
      "Run: 57, exploration: 0.17660016118501498, score: 23\n",
      "Run: 58, exploration: 0.17362185639789907, score: 17\n",
      "Run: 59, exploration: 0.16058777361462884, score: 78\n",
      "Run: 60, exploration: 0.15259924208778378, score: 51\n",
      "Run: 61, exploration: 0.14897867042268104, score: 24\n",
      "Run: 62, exploration: 0.1417093497873648, score: 50\n",
      "Run: 63, exploration: 0.13904096767148003, score: 19\n",
      "Run: 64, exploration: 0.13601397173658286, score: 22\n",
      "Run: 65, exploration: 0.13015624314566968, score: 44\n",
      "Run: 66, exploration: 0.12196121415881125, score: 65\n",
      "Run: 67, exploration: 0.11624256221146546, score: 48\n",
      "Run: 68, exploration: 0.11337110503126219, score: 25\n",
      "Run: 69, exploration: 0.10990881228405747, score: 31\n",
      "Run: 70, exploration: 0.10226986131454316, score: 72\n",
      "Run: 71, exploration: 0.0977675286223353, score: 45\n",
      "Run: 72, exploration: 0.09497160897687112, score: 29\n",
      "Run: 73, exploration: 0.0939321290776006, score: 11\n",
      "Run: 74, exploration: 0.09216339036195662, score: 19\n",
      "Run: 75, exploration: 0.08854783998018396, score: 40\n",
      "Run: 76, exploration: 0.08414297655008723, score: 51\n",
      "Run: 77, exploration: 0.07728307081562819, score: 85\n",
      "Run: 78, exploration: 0.07220006185805601, score: 68\n",
      "Run: 79, exploration: 0.06867710519555668, score: 50\n",
      "Run: 80, exploration: 0.06785749754713061, score: 12\n",
      "Run: 81, exploration: 0.06704767127628951, score: 12\n",
      "Run: 82, exploration: 0.062450132251566336, score: 71\n",
      "Run: 83, exploration: 0.06151990920192627, score: 15\n",
      "Run: 84, exploration: 0.05810968412556475, score: 57\n",
      "Run: 85, exploration: 0.057186869905733934, score: 16\n",
      "Run: 86, exploration: 0.054287733964751464, score: 52\n",
      "Run: 87, exploration: 0.05036320165778891, score: 75\n",
      "Run: 88, exploration: 0.046349905579066174, score: 83\n",
      "Run: 89, exploration: 0.04413242347668542, score: 49\n",
      "Run: 90, exploration: 0.043780597328400374, score: 8\n",
      "Run: 91, exploration: 0.04009079298229604, score: 88\n",
      "Run: 92, exploration: 0.036528770226583386, score: 93\n",
      "Run: 93, exploration: 0.034642236919519453, score: 53\n",
      "Run: 94, exploration: 0.034228808859950284, score: 12\n",
      "Run: 95, exploration: 0.032170073729599125, score: 62\n",
      "INFO:tensorflow:Assets written to: ./models/myDQN/assets\n",
      "Run: 96, exploration: 0.028388214919605775, score: 125\n",
      "INFO:tensorflow:Assets written to: ./models/myDQN/assets\n",
      "Run: 97, exploration: 0.023473662032371355, score: 190\n",
      "Run: 98, exploration: 0.020263180668224277, score: 147\n",
      "Run: 99, exploration: 0.01822423758678744, score: 106\n",
      "Run: 100, exploration: 0.015858139430950966, score: 139\n",
      "Run: 101, exploration: 0.014078141659134286, score: 119\n",
      "Run: 102, exploration: 0.012043743404400235, score: 156\n",
      "INFO:tensorflow:Assets written to: ./models/myDQN/assets\n",
      "Run: 103, exploration: 0.01, score: 194\n",
      "Run: 104, exploration: 0.01, score: 107\n",
      "INFO:tensorflow:Assets written to: ./models/myDQN/assets\n",
      "Run: 105, exploration: 0.01, score: 225\n",
      "Run: 106, exploration: 0.01, score: 135\n",
      "Run: 107, exploration: 0.01, score: 98\n",
      "Run: 108, exploration: 0.01, score: 198\n",
      "INFO:tensorflow:Assets written to: ./models/myDQN/assets\n",
      "Run: 109, exploration: 0.01, score: 408\n",
      "Run: 110, exploration: 0.01, score: 243\n",
      "\n"
     ]
    }
   ],
   "source": [
    "DEVICE_TYPE = 'gpu' # 'cpu'\n",
    "DEVICE = 1\n",
    "\n",
    "# Max runs\n",
    "LAST = 1000\n",
    "\n",
    "# An epoch is considered a success if this score is reached\n",
    "EPOCH_SUCESS = 200\n",
    "\n",
    "# This number limits the number of steps per epoch (to avoid very long or perfect executions)\n",
    "MAX_REACHED = 500\n",
    "\n",
    "# If the EPOCH_SUCESS value is reached consecutively, training stops\n",
    "CONSECUTIVE_WINS = 2\n",
    "\n",
    "# Print a summary in some epochs\n",
    "EPOCH_VERBOSE = 1\n",
    "\n",
    "# The best weights are updated in the following path\n",
    "model_save_path = './models/myDQN'\n",
    "\n",
    "best_score = 0\n",
    "scores = np.array([])\n",
    "\n",
    "try:\n",
    "    with tf.device(f'/device:{DEVICE_TYPE}:{DEVICE}'):\n",
    "        \n",
    "        # Create a gym environment and a DQNSolver object\n",
    "        env = gym.make(ENV_NAME)\n",
    "        observation_space = env.observation_space.shape[0]\n",
    "        action_space = env.action_space.n\n",
    "        dqn_solver = DQNSolver(observation_space, action_space)\n",
    "\n",
    "        # Train for a set amount of time\n",
    "        for run in trange(1,LAST+1):\n",
    "            state = env.reset()\n",
    "            state = np.reshape(state, [1, observation_space])\n",
    "\n",
    "            # While MAX_REACHED is to reached\n",
    "            for step_score in range(MAX_REACHED+1):\n",
    "                \n",
    "                # Choose an action (explotation vs exploration) and retrieve the new state\n",
    "                action = dqn_solver.act(state)\n",
    "                state_next, reward, terminal, info = env.step(action)\n",
    "                \n",
    "                # Obtain a reward (1 if alive, -1 if dead)\n",
    "                reward = reward if not terminal else -reward\n",
    "                \n",
    "                # Remember this action (this does not fit the network yet)\n",
    "                state_next = np.reshape(state_next, [1, observation_space])\n",
    "                dqn_solver.remember(state, action, reward, state_next, terminal)\n",
    "                state = state_next\n",
    "                \n",
    "                # If this epoch has ended, stop\n",
    "                if terminal or step_score >= MAX_REACHED:  \n",
    "                    \n",
    "                    # If we have obtained a higer value, save the model\n",
    "                    if step_score > best_score:\n",
    "                        dqn_solver.model.save(model_save_path)\n",
    "                        best_score = step_score\n",
    "                        \n",
    "                    scores = np.append(scores, step_score)\n",
    "                    break\n",
    "                    \n",
    "                # Fit the network by selecting previous actions and learning from them\n",
    "                dqn_solver.experience_replay()\n",
    "            \n",
    "            # To keep track in the output\n",
    "            if run % EPOCH_VERBOSE == 0:\n",
    "                print (\"Run: {:04d}  Exploration: {:6.5f}  Score: {:d}\".format(run, dqn_solver.exploration_rate, step_score))\n",
    "            \n",
    "            # If a number of consecutive wins is achieved, stop the training process\n",
    "            if len(scores)>=CONSECUTIVE_WINS:\n",
    "                if (scores[-CONSECUTIVE_WINS:]>=EPOCH_SUCESS).all():\n",
    "                    raise KeyboardInterrupt\n",
    "                    \n",
    "except KeyboardInterrupt:\n",
    "    pass"
   ]
  },
  {
   "cell_type": "code",
   "execution_count": 38,
   "metadata": {},
   "outputs": [
    {
     "data": {
      "image/png": "[encoded data removed]",
      "text/plain": [
       "<Figure size 432x288 with 1 Axes>"
      ]
     },
     "metadata": {
      "needs_background": "light"
     },
     "output_type": "display_data"
    }
   ],
   "source": [
    "plt.plot(pd.Series(scores).cummax().values, label='best scores')\n",
    "plt.plot(scores, alpha=0.3, label='scores')\n",
    "plt.plot([EPOCH_SUCESS]*len(scores), c='k',linestyle='dashed', label='success')\n",
    "plt.legend()\n",
    "plt.show()"
   ]
  },
  {
   "cell_type": "markdown",
   "metadata": {},
   "source": [
    "### Reload model and weights from saved file"
   ]
  },
  {
   "cell_type": "code",
   "execution_count": null,
   "metadata": {},
   "outputs": [],
   "source": [
    "model_load_path = './models/myDQN'"
   ]
  },
  {
   "cell_type": "code",
   "execution_count": 11,
   "metadata": {},
   "outputs": [],
   "source": [
    "from tensorflow.keras.models import load_model\n",
    "\n",
    "env = wrap_env(gym.make(\"CartPole-v1\"))\n",
    "\n",
    "observation_space = env.observation_space.shape[0]\n",
    "action_space = env.action_space.n\n",
    "\n",
    "# Load existing solver\n",
    "dqn_solver = DQNSolver(observation_space, action_space)\n",
    "dqn_solver.model = load_model(model_load_path)"
   ]
  },
  {
   "cell_type": "markdown",
   "metadata": {},
   "source": [
    "### Visualize the result"
   ]
  },
  {
   "cell_type": "code",
   "execution_count": 15,
   "metadata": {},
   "outputs": [
    {
     "name": "stdout",
     "output_type": "stream",
     "text": [
      "336 steps\n"
     ]
    },
    {
     "data": {
      "text/html": [
       "<video alt=\"test\" autoplay \n",
       "                    loop controls style=\"height: 200px;\">\n",
       "                    <source src=\"data:video/mp4;base64,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\" type=\"video/mp4\" />\n",
       "                 </video>"
      ],
      "text/plain": [
       "<IPython.core.display.HTML object>"
      ]
     },
     "metadata": {},
     "output_type": "display_data"
    }
   ],
   "source": [
    "observation = env.reset()\n",
    "\n",
    "step = 0\n",
    "while True:\n",
    "    env.render()\n",
    "\n",
    "    observation = np.reshape(observation, [1, env.observation_space.shape[0]])\n",
    "    action = dqn_solver.act_best(observation)\n",
    "    step+=1\n",
    "    observation, reward, done, info = env.step(action) \n",
    "\n",
    "    if done: \n",
    "        break;\n",
    "\n",
    "print(f'{step} steps')\n",
    "env.close()\n",
    "show_video()"
   ]
  }
 ],
 "metadata": {
  "kernelspec": {
   "display_name": "Python 3",
   "language": "python",
   "name": "python3"
  },
  "language_info": {
   "codemirror_mode": {
    "name": "ipython",
    "version": 3
   },
   "file_extension": ".py",
   "mimetype": "text/x-python",
   "name": "python",
   "nbconvert_exporter": "python",
   "pygments_lexer": "ipython3",
   "version": "3.8.3"
  }
 },
 "nbformat": 4,
 "nbformat_minor": 4
}
